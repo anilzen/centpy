{
 "cells": [
  {
   "cell_type": "markdown",
   "metadata": {
    "colab_type": "text",
    "id": "view-in-github"
   },
   "source": [
    "<a href=\"https://colab.research.google.com/github/AnilZen/centpy/blob/master/notebooks/MHD_2d.ipynb\" target=\"_parent\"><img src=\"https://colab.research.google.com/assets/colab-badge.svg\" alt=\"Open In Colab\"/></a>"
   ]
  },
  {
   "cell_type": "markdown",
   "metadata": {
    "colab_type": "text",
    "id": "LlKc-oLd7SIo"
   },
   "source": [
    "# MHD Equation with CentPy in 2d"
   ]
  },
  {
   "cell_type": "markdown",
   "metadata": {
    "colab_type": "text",
    "id": "8jIVJ12U-P6m"
   },
   "source": [
    "### Import packages"
   ]
  },
  {
   "cell_type": "code",
   "execution_count": 1,
   "metadata": {
    "colab": {
     "base_uri": "https://localhost:8080/",
     "height": 52
    },
    "colab_type": "code",
    "id": "76Ayk0w3VjtL",
    "outputId": "ef5e3ec2-7315-4a55-a466-eb8504d424a7"
   },
   "outputs": [
    {
     "name": "stdout",
     "output_type": "stream",
     "text": [
      "Collecting centpy\n",
      "  Downloading centpy-0.1-py3-none-any.whl (9.9 kB)\n",
      "Requirement already satisfied: numpy in /opt/miniconda3/envs/science/lib/python3.10/site-packages (from centpy) (1.22.3)\n",
      "Installing collected packages: centpy\n",
      "Successfully installed centpy-0.1\n",
      "\n",
      "\u001b[1m[\u001b[0m\u001b[34;49mnotice\u001b[0m\u001b[1;39;49m]\u001b[0m\u001b[39;49m A new release of pip is available: \u001b[0m\u001b[31;49m23.0\u001b[0m\u001b[39;49m -> \u001b[0m\u001b[32;49m23.1.2\u001b[0m\n",
      "\u001b[1m[\u001b[0m\u001b[34;49mnotice\u001b[0m\u001b[1;39;49m]\u001b[0m\u001b[39;49m To update, run: \u001b[0m\u001b[32;49mpip install --upgrade pip\u001b[0m\n"
     ]
    }
   ],
   "source": [
    "# Install the centpy package\n",
    "!pip install centpy"
   ]
  },
  {
   "cell_type": "code",
   "execution_count": 2,
   "metadata": {
    "colab": {},
    "colab_type": "code",
    "id": "ybJXEqtCVkqW"
   },
   "outputs": [],
   "source": [
    "# Import numpy and centpy for the solution \n",
    "import numpy as np\n",
    "import centpy"
   ]
  },
  {
   "cell_type": "code",
   "execution_count": 3,
   "metadata": {
    "colab": {},
    "colab_type": "code",
    "id": "jbgdeIwH8iWq"
   },
   "outputs": [],
   "source": [
    "# Imports functions from matplotlib and setup for the animation\n",
    "import matplotlib.pyplot as plt\n",
    "from matplotlib import animation\n",
    "from IPython.display import HTML"
   ]
  },
  {
   "cell_type": "markdown",
   "metadata": {
    "colab_type": "text",
    "id": "44Gh42CV-gbT"
   },
   "source": [
    "### Equation"
   ]
  },
  {
   "cell_type": "markdown",
   "metadata": {
    "colab_type": "text",
    "id": "10UD6oomXEav"
   },
   "source": [
    "We solve the equations of ideal magnetohydrodynamics in 1D \n",
    "\n",
    "\\begin{equation} \n",
    "\\partial_t \n",
    "\\begin{bmatrix} \n",
    "\\rho \\\\ \\rho v_x \\\\ \\rho v_y \\\\ \\rho v_z \\\\ B_x \\\\ B_y \\\\ B_z \\\\ E \n",
    "\\end{bmatrix} \n",
    "+ \n",
    "\\partial_x \n",
    "\\begin{bmatrix} \n",
    "\\rho v_x \\\\ \\rho v_x^2 + p^* - B_x^2 \\\\ \\rho v_x v_y - B_x B_y \\\\\n",
    "\\rho v_x v_z - B_x B_z \\\\ 0 \\\\ B_y v_x - B_x v_y \\\\ B_z v_x - B_x v_z \\\\\n",
    "(E+p^*) v_x - B_x (B_x v_x + B_y v_y + B_z v_Z) \n",
    "\\end{bmatrix} \n",
    "+ \n",
    "\\partial_y\n",
    "\\begin{bmatrix} \n",
    "\\rho v_y \\\\ \\rho v_y v_x - B_y B_x \\\\ \\rho v_y^2 + p^* - B_y^2  \\\\\n",
    "\\rho v_y v_z - B_y B_z \\\\ B_x v_y - B_y v_x \\\\ 0 \\\\ B_z v_y - B_y v_z \\\\\n",
    "(E+p^*) v_y - B_y (B_x v_x + B_y v_y + B_z v_Z) \n",
    "\\end{bmatrix} \n",
    "= 0 \n",
    "\\end{equation}\n",
    "\n",
    "where the total pressure is given by \n",
    "\n",
    "\\begin{equation}\n",
    "p^* = p + \\frac{1}{2} (B_x^2 + B_y^2 + B_z^2)\n",
    "\\end{equation}\n",
    "\n",
    "with the equation of state\n",
    "\n",
    "\\begin{equation}\n",
    "p = (\\gamma-1) \\left(E-\\frac{1}{2} \\rho (v_x^2+v_y^2+v_z^2) - \n",
    "\\frac{1}{2}(B_x^2 + B_y^2 + B_z^2)\\right), \\qquad \\gamma=5/3\n",
    "\\end{equation}\n",
    "\n",
    "The solution is computed on the domain $(x,y,t)\\in([0,2\\pi]\\times[0,2\\pi]\\times[0,3])$ with initial data for an *Orszag-Tang vortex system*:\n",
    "\n",
    "\\begin{equation}\n",
    "(\\rho, v_x, v_y, v_z, B_x, B_y, B_z, p)_{t=0} = \n",
    "(\\gamma^2, -\\sin y, \\sin x, 0, -\\sin y, \\sin (2x), 0, \\gamma)\n",
    "\\end{equation}\n",
    "\n",
    "and Dirichlet boundary data set by initial data on each boundary. The solution is computed using a 288$\\times$288 mesh and CFL number 0.75."
   ]
  },
  {
   "cell_type": "code",
   "execution_count": 4,
   "metadata": {
    "colab": {},
    "colab_type": "code",
    "id": "O5dIG_mnXEaw"
   },
   "outputs": [],
   "source": [
    "pars = centpy.Pars2d(\n",
    "    x_init=0., x_final=2.*np.pi,\n",
    "    y_init=0., y_final=2.*np.pi,\n",
    "    J=144, K=144,\n",
    "    t_final=3.0,\n",
    "    dt_out=0.05,\n",
    "    cfl=0.75,\n",
    "    scheme=\"sd2\",)\n",
    "pars.gamma = 5./3"
   ]
  },
  {
   "cell_type": "code",
   "execution_count": 5,
   "metadata": {
    "colab": {},
    "colab_type": "code",
    "id": "xVEWiUuTXEa9"
   },
   "outputs": [],
   "source": [
    "# MHD equation\n",
    "class MHD2d(centpy.Equation2d):\n",
    "\n",
    "    # Helper functions for the equation\n",
    "\n",
    "    def pressure(self, u):\n",
    "        return (self.gamma - 1.0) * (\n",
    "            u[:, :, 7]\n",
    "            - 0.5 * (u[:, :, 1] ** 2 + u[:, :, 2] ** 2 + u[:, :, 3] ** 2) / u[:, :, 0]\n",
    "            - 0.5 * (u[:, :, 4] ** 2 + u[:, :, 5] ** 2 + u[:, :, 6] ** 2)\n",
    "        )\n",
    "\n",
    "    def pressure_star(self, u):\n",
    "        return self.pressure(u) + 0.5 * (\n",
    "            u[:, :, 4] ** 2 + u[:, :, 5] ** 2 + u[:, :, 6] ** 2\n",
    "        )\n",
    "\n",
    "    def initial_data(self):\n",
    "        u = np.zeros((self.J + 4, self.K + 4, 8))\n",
    "        x = self.xx.T\n",
    "        y = self.yy.T\n",
    "        gamma = self.gamma\n",
    "        dx = self.dx\n",
    "        dy = self.dy\n",
    "\n",
    "        u[:, :, 0] = gamma ** 2\n",
    "        u[:, :, 1] = u[:, :, 0] / dy * (np.cos(y + 0.5 * dy) - np.cos(y - 0.5 * dy))\n",
    "        u[:, :, 2] = 0.0\n",
    "        u[:, :, 3] = -u[:, :, 0] / dx * (np.cos(x + 0.5 * dx) - np.cos(x - 0.5 * dx))\n",
    "        u[:, :, 4] = 1.0 / dy * (np.cos(y + 0.5 * dy) - np.cos(y - 0.5 * dy))\n",
    "        u[:, :, 5] = 0.0\n",
    "        u[:, :, 6] = ( -0.5 / dx * (np.cos(2.0 * (x + 0.5 * dx)) - np.cos(2.0 * (x - 0.5 * dx))) )\n",
    "\n",
    "        I1 = ( -0.125/dy*(u[:, :, 0] + 1.0)*(np.sin(2.0 * (y + 0.5 * dy)) - np.sin(2.0 * (y - 0.5 * dy))) )\n",
    "        I2 = ( -0.125/dx*u[:, :, 0]*(np.sin(2.0 * (x + 0.5 * dx)) - np.sin(2.0 * (x - 0.5 * dx))) )\n",
    "        I3 = ( -0.0625 / dx * (np.sin(4.0 * (x + 0.5 * dx)) - np.sin(4.0 * (x - 0.5 * dx))) )\n",
    "        u[:, :, 7] = 3.0 + 0.5 * u[:, :, 0] + I1 + I2 + I3\n",
    "\n",
    "        return u\n",
    "\n",
    "    def boundary_conditions(self, u):  # periodic\n",
    "        # x-boundary\n",
    "        u[0] = u[-4]\n",
    "        u[1] = u[-3]\n",
    "        u[-2] = u[2]\n",
    "        u[-1] = u[3]\n",
    "        # y-boundary\n",
    "        u[:, 0] = u[:, -4]\n",
    "        u[:, 1] = u[:, -3]\n",
    "        u[:, -2] = u[:, 2]\n",
    "        u[:, -1] = u[:, 3]\n",
    "\n",
    "    def flux_x(self, u):\n",
    "        f = np.empty_like(u)\n",
    "\n",
    "        p_star = self.pressure_star(u)\n",
    "\n",
    "        f[:, :, 0] = u[:, :, 1]\n",
    "        f[:, :, 1] = u[:, :, 1] ** 2 / u[:, :, 0] + p_star - u[:, :, 4] ** 2\n",
    "        f[:, :, 2] = u[:, :, 1] * u[:, :, 2] / u[:, :, 0] - u[:, :, 4] * u[:, :, 5]\n",
    "        f[:, :, 3] = u[:, :, 1] * u[:, :, 3] / u[:, :, 0] - u[:, :, 4] * u[:, :, 6]\n",
    "        f[:, :, 4] = 0.0\n",
    "        f[:, :, 5] = (\n",
    "            u[:, :, 1] * u[:, :, 5] / u[:, :, 0] - u[:, :, 4] * u[:, :, 2] / u[:, :, 0]\n",
    "        )\n",
    "        f[:, :, 6] = (\n",
    "            u[:, :, 1] * u[:, :, 6] / u[:, :, 0] - u[:, :, 4] * u[:, :, 3] / u[:, :, 0]\n",
    "        )\n",
    "        f[:, :, 7] = (u[:, :, 7] + p_star) * u[:, :, 1] / u[:, :, 0] - u[:, :, 4] * (\n",
    "            u[:, :, 4] * u[:, :, 1] / u[:, :, 0]\n",
    "            + u[:, :, 5] * u[:, :, 2] / u[:, :, 0]\n",
    "            + u[:, :, 6] * u[:, :, 3] / u[:, :, 0]\n",
    "        )\n",
    "\n",
    "        return f\n",
    "\n",
    "    def flux_y(self, u):\n",
    "        g = np.empty_like(u)\n",
    "\n",
    "        p_star = self.pressure_star(u)\n",
    "\n",
    "        g[:, :, 0] = u[:, :, 3]\n",
    "        g[:, :, 1] = u[:, :, 3] * u[:, :, 1] / u[:, :, 0] - u[:, :, 4] * u[:, :, 6]\n",
    "        g[:, :, 2] = u[:, :, 3] * u[:, :, 2] / u[:, :, 0] - u[:, :, 5] * u[:, :, 6]\n",
    "        g[:, :, 3] = u[:, :, 3] ** 2 / u[:, :, 0] + p_star - u[:, :, 6] ** 2\n",
    "\n",
    "        g[:, :, 4] = (\n",
    "            u[:, :, 3] * u[:, :, 4] / u[:, :, 0] - u[:, :, 6] * u[:, :, 1] / u[:, :, 0]\n",
    "        )\n",
    "        g[:, :, 5] = (\n",
    "            u[:, :, 3] * u[:, :, 5] / u[:, :, 0] - u[:, :, 6] * u[:, :, 2] / u[:, :, 0]\n",
    "        )\n",
    "        g[:, :, 6] = 0.0\n",
    "        g[:, :, 7] = (u[:, :, 7] + p_star) * u[:, :, 3] / u[:, :, 0] - u[:, :, 6] * (\n",
    "            u[:, :, 4] * u[:, :, 1] / u[:, :, 0]\n",
    "            + u[:, :, 5] * u[:, :, 2] / u[:, :, 0]\n",
    "            + u[:, :, 6] * u[:, :, 3] / u[:, :, 0]\n",
    "        )\n",
    "\n",
    "        return g\n",
    "\n",
    "    def spectral_radius_x(self, u):\n",
    "        rho = u[:, :, 0]\n",
    "        vx = u[:, :, 1] / rho\n",
    "        vy = u[:, :, 2] / rho\n",
    "        vz = u[:, :, 3] / rho\n",
    "        p = (self.gamma - 1.0) * (\n",
    "            u[:, :, 7]\n",
    "            - 0.5 * rho * (vx ** 2 + vy ** 2 + vz ** 2)\n",
    "            - 0.5 * (u[:, :, 4] ** 2 + u[:, :, 5] ** 2 + u[:, :, 6] ** 2)\n",
    "        )\n",
    "        A = self.gamma * p / rho\n",
    "        B = (u[:, :, 4] ** 2 + u[:, :, 5] ** 2 + u[:, :, 6] ** 2) / rho\n",
    "        cfx = np.sqrt(\n",
    "            0.5 * (A + B + np.sqrt((A + B) ** 2 - 4 * A * u[:, :, 4] ** 2 / rho))\n",
    "        )\n",
    "        # cfy = np.sqrt(\n",
    "        #     0.5 * (A + B + np.sqrt((A + B) ** 2 - 4 * A * u[:, :, 6] ** 2 / rho))\n",
    "        # )\n",
    "\n",
    "        return np.abs(vx) + cfx\n",
    "\n",
    "    def spectral_radius_y(self, u):\n",
    "        rho = u[:, :, 0]\n",
    "        vx = u[:, :, 1] / rho\n",
    "        vy = u[:, :, 2] / rho\n",
    "        vz = u[:, :, 3] / rho\n",
    "        p = (self.gamma - 1.0) * (\n",
    "            u[:, :, 7]\n",
    "            - 0.5 * rho * (vx ** 2 + vy ** 2 + vz ** 2)\n",
    "            - 0.5 * (u[:, :, 4] ** 2 + u[:, :, 5] ** 2 + u[:, :, 6] ** 2)\n",
    "        )\n",
    "        A = self.gamma * p / rho\n",
    "        B = (u[:, :, 4] ** 2 + u[:, :, 5] ** 2 + u[:, :, 6] ** 2) / rho\n",
    "        # cfx = np.sqrt(\n",
    "        #     0.5 * (A + B + np.sqrt((A + B) ** 2 - 4 * A * u[:, :, 4] ** 2 / rho))\n",
    "        # )\n",
    "        cfy = np.sqrt(\n",
    "            0.5 * (A + B + np.sqrt((A + B) ** 2 - 4 * A * u[:, :, 6] ** 2 / rho))\n",
    "        )\n",
    "\n",
    "        return np.abs(vy) + cfy"
   ]
  },
  {
   "cell_type": "markdown",
   "metadata": {
    "colab_type": "text",
    "id": "HgSzZy1qYi85"
   },
   "source": [
    "### Solution"
   ]
  },
  {
   "cell_type": "code",
   "execution_count": null,
   "metadata": {
    "colab": {},
    "colab_type": "code",
    "id": "d5xYb7uoXEbG"
   },
   "outputs": [],
   "source": [
    "eqn = MHD2d(pars)\n",
    "soln = centpy.Solver2d(eqn)\n",
    "soln.solve()"
   ]
  },
  {
   "cell_type": "markdown",
   "metadata": {
    "colab_type": "text",
    "id": "0NQ7_rZkY2GO"
   },
   "source": [
    "### Animation"
   ]
  },
  {
   "cell_type": "code",
   "execution_count": null,
   "metadata": {
    "colab": {
     "base_uri": "https://localhost:8080/",
     "height": 454
    },
    "colab_type": "code",
    "id": "knSpVFDtXEbM",
    "outputId": "eae69d1e-b629-4e7d-a0b9-dab3ab288d11"
   },
   "outputs": [],
   "source": [
    "# Animation\n",
    "j0 = slice(2,-2)\n",
    "\n",
    "fig = plt.figure(figsize=(8,6))\n",
    "ax = plt.axes(xlim=(soln.x_init,soln.x_final), ylim=(soln.y_init, soln.y_final))\n",
    "\n",
    "ax.set_title(\"MHD Density\")\n",
    "ax.set_xlabel(\"x\")\n",
    "ax.set_ylabel(\"y\")\n",
    "\n",
    "img=ax.imshow(soln.u_n[1,j0,j0,0], extent=[0, 6.3, 0, 6.3], origin='lower',\n",
    "           cmap='inferno', alpha=0.5)\n",
    "fig.colorbar(img)\n",
    "\n",
    "def animate(i):\n",
    "    for c in ax.collections:\n",
    "        c.remove()\n",
    "    ax.contour(soln.x[j0], soln.y[j0], soln.u_n[1+i,j0,j0,0], 20, colors='black',linewidths=0.1) \n",
    "    img.set_array(soln.u_n[i,j0,j0,0])\n",
    "    img.autoscale()\n",
    "    \n",
    "plt.close()\n",
    "anim = animation.FuncAnimation(fig, animate, frames=soln.Nt, interval=100, blit=False);\n",
    "HTML(anim.to_html5_video())"
   ]
  },
  {
   "cell_type": "code",
   "execution_count": null,
   "metadata": {},
   "outputs": [],
   "source": []
  }
 ],
 "metadata": {
  "colab": {
   "collapsed_sections": [
    "8jIVJ12U-P6m"
   ],
   "include_colab_link": true,
   "name": "MHD_2d.ipynb",
   "provenance": []
  },
  "kernelspec": {
   "display_name": "Python 3 (ipykernel)",
   "language": "python",
   "name": "python3"
  },
  "language_info": {
   "codemirror_mode": {
    "name": "ipython",
    "version": 3
   },
   "file_extension": ".py",
   "mimetype": "text/x-python",
   "name": "python",
   "nbconvert_exporter": "python",
   "pygments_lexer": "ipython3",
   "version": "3.10.6"
  }
 },
 "nbformat": 4,
 "nbformat_minor": 4
}
