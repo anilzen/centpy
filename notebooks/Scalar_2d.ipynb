{
 "cells": [
  {
   "cell_type": "markdown",
   "metadata": {
    "colab_type": "text",
    "id": "view-in-github"
   },
   "source": [
    "<a href=\"https://colab.research.google.com/github/AnilZen/centpy/blob/master/notebooks/Scalar_2d.ipynb\" target=\"_parent\"><img src=\"https://colab.research.google.com/assets/colab-badge.svg\" alt=\"Open In Colab\"/></a>"
   ]
  },
  {
   "cell_type": "markdown",
   "metadata": {
    "colab_type": "text",
    "id": "6ADWTLLp5PRG"
   },
   "source": [
    "# Quasilinear scalar equation with CentPy in 2d"
   ]
  },
  {
   "cell_type": "markdown",
   "metadata": {
    "colab_type": "text",
    "id": "8jIVJ12U-P6m"
   },
   "source": [
    "### Import packages"
   ]
  },
  {
   "cell_type": "code",
   "execution_count": 1,
   "metadata": {
    "colab": {
     "base_uri": "https://localhost:8080/",
     "height": 104
    },
    "colab_type": "code",
    "id": "76Ayk0w3VjtL",
    "outputId": "95104b35-d260-4c8b-c3a7-927b956b68ff"
   },
   "outputs": [
    {
     "name": "stdout",
     "output_type": "stream",
     "text": [
      "Requirement already satisfied: centpy in /opt/miniconda3/envs/science/lib/python3.10/site-packages (0.1)\n",
      "Requirement already satisfied: numpy in /opt/miniconda3/envs/science/lib/python3.10/site-packages (from centpy) (1.22.3)\n",
      "\n",
      "\u001b[1m[\u001b[0m\u001b[34;49mnotice\u001b[0m\u001b[1;39;49m]\u001b[0m\u001b[39;49m A new release of pip is available: \u001b[0m\u001b[31;49m23.0\u001b[0m\u001b[39;49m -> \u001b[0m\u001b[32;49m23.1.2\u001b[0m\n",
      "\u001b[1m[\u001b[0m\u001b[34;49mnotice\u001b[0m\u001b[1;39;49m]\u001b[0m\u001b[39;49m To update, run: \u001b[0m\u001b[32;49mpip install --upgrade pip\u001b[0m\n"
     ]
    }
   ],
   "source": [
    "# Install the centpy package\n",
    "!pip install centpy"
   ]
  },
  {
   "cell_type": "code",
   "execution_count": 2,
   "metadata": {
    "colab": {},
    "colab_type": "code",
    "id": "ybJXEqtCVkqW"
   },
   "outputs": [],
   "source": [
    "# Import numpy and centpy for the solution \n",
    "from numpy import pi, sin, cos, abs, min, max\n",
    "import centpy"
   ]
  },
  {
   "cell_type": "code",
   "execution_count": 3,
   "metadata": {
    "colab": {},
    "colab_type": "code",
    "id": "jbgdeIwH8iWq"
   },
   "outputs": [],
   "source": [
    "# Imports functions from matplotlib and setup for the animation\n",
    "import matplotlib.pyplot as plt\n",
    "from matplotlib import animation\n",
    "from IPython.display import HTML"
   ]
  },
  {
   "cell_type": "markdown",
   "metadata": {
    "colab_type": "text",
    "id": "mW2jPJaj5s0C"
   },
   "source": [
    "## Equation"
   ]
  },
  {
   "cell_type": "markdown",
   "metadata": {
    "colab_type": "text",
    "id": "0SjVnTuQnPnz"
   },
   "source": [
    "We solve the nonlinear scalar conservation law \n",
    "\n",
    "\\begin{equation}\n",
    "\\partial_t u + \\partial_x \\sin u + \\frac{1}{3} \\partial_y u^3= 0,\n",
    "\\end{equation}\n",
    "\n",
    "on the domain $(x,y,t)\\in([0,2\\pi]\\times[0,2\\pi]\\times[0,6])$ with initial data\n",
    "\n",
    "\\begin{equation}\n",
    "u(x,y,0) = \\sin \\left(x+\\frac{1}{2}\\right) \\cos(2x+y)\n",
    "\\end{equation}\n",
    "\n",
    "and periodic boundary conditions. The solution is computed using a 144 $\\times$ 144 mesh and CFL number 0.9."
   ]
  },
  {
   "cell_type": "code",
   "execution_count": 4,
   "metadata": {
    "colab": {},
    "colab_type": "code",
    "id": "mxB_B6_snPn1"
   },
   "outputs": [],
   "source": [
    "pars = centpy.Pars2d(\n",
    "    x_init=0, x_final=2*pi,\n",
    "    y_init=0.0, y_final=2*pi,\n",
    "    J=144, K=144,\n",
    "    t_final=6.0,\n",
    "    dt_out=0.1,\n",
    "    cfl=0.9,\n",
    "    scheme=\"sd3\",\n",
    ")"
   ]
  },
  {
   "cell_type": "code",
   "execution_count": 5,
   "metadata": {
    "colab": {},
    "colab_type": "code",
    "id": "Ird5LAa_nPoB"
   },
   "outputs": [],
   "source": [
    "class Scalar2d(centpy.Equation2d):\n",
    "    def initial_data(self):\n",
    "        x = self.xx.T; y = self.yy.T\n",
    "        return sin(x + 0.5) * cos(2*x + y)\n",
    "\n",
    "    def boundary_conditions(self, u):\n",
    "        # x-boundary\n",
    "        u[0] = u[-4]\n",
    "        u[1] = u[-3]\n",
    "        u[-2] = u[2]\n",
    "        u[-1] = u[3]\n",
    "        # y-boundary\n",
    "        u[:, 0] = u[:, -4]\n",
    "        u[:, 1] = u[:, -3]\n",
    "        u[:, -2] = u[:, 2]\n",
    "        u[:, -1] = u[:, 3]\n",
    "\n",
    "    def flux_x(self, u):\n",
    "        return sin(u)\n",
    "\n",
    "    def flux_y(self, u):\n",
    "        return 1./3 *u**3\n",
    "\n",
    "    def spectral_radius_x(self, u):\n",
    "        return abs(cos(u))\n",
    "\n",
    "    def spectral_radius_y(self, u):\n",
    "        return u**2"
   ]
  },
  {
   "cell_type": "markdown",
   "metadata": {
    "colab_type": "text",
    "id": "cyvzRA335y2P"
   },
   "source": [
    "## Solution"
   ]
  },
  {
   "cell_type": "code",
   "execution_count": null,
   "metadata": {
    "colab": {},
    "colab_type": "code",
    "id": "hsCisWn0nPoK"
   },
   "outputs": [],
   "source": [
    "eqn = Scalar2d(pars)\n",
    "soln = centpy.Solver2d(eqn)\n",
    "soln.solve()"
   ]
  },
  {
   "cell_type": "markdown",
   "metadata": {
    "colab_type": "text",
    "id": "-wqo3qMr54cY"
   },
   "source": [
    "## Animation"
   ]
  },
  {
   "cell_type": "code",
   "execution_count": null,
   "metadata": {
    "colab": {
     "base_uri": "https://localhost:8080/",
     "height": 310
    },
    "colab_type": "code",
    "id": "ZsvUI5qdnPoR",
    "outputId": "38018e8b-5915-48b8-8a5e-1003a7fe4ef4"
   },
   "outputs": [],
   "source": [
    "# Animation\n",
    "j0 = slice(2, -2)\n",
    "\n",
    "fig = plt.figure()\n",
    "ax = plt.axes(xlim=(soln.x_init,soln.x_final), ylim=(soln.y_init, soln.y_final))\n",
    "\n",
    "ax.set_title(\"Nonlinear scalar\")\n",
    "ax.set_xlabel(\"x\")\n",
    "ax.set_ylabel(\"y\")\n",
    "\n",
    "contours=ax.contour(soln.x[j0], soln.y[j0], soln.u_n[0,j0,j0], 8, colors='black') \n",
    "img=ax.imshow(soln.u_n[0,j0,j0], extent=[0, 6.3, 0, 6.3], origin='lower',\n",
    "           cmap='ocean', alpha=0.5)\n",
    "\n",
    "fig.colorbar(img)\n",
    "def animate(i):\n",
    "    for c in ax.collections:\n",
    "        c.remove()\n",
    "    ax.contour(soln.x[j0], soln.y[j0], soln.u_n[i,j0,j0], 8, colors='black') \n",
    "    img.set_array(soln.u_n[i,j0,j0])\n",
    "    img.autoscale()\n",
    "    \n",
    "plt.close()\n",
    "anim = animation.FuncAnimation(fig, animate, frames=soln.Nt, interval=100, blit=False);\n",
    "HTML(anim.to_html5_video())"
   ]
  },
  {
   "cell_type": "code",
   "execution_count": null,
   "metadata": {
    "colab": {},
    "colab_type": "code",
    "id": "2bsJt30pnPoa"
   },
   "outputs": [],
   "source": []
  }
 ],
 "metadata": {
  "colab": {
   "collapsed_sections": [
    "8jIVJ12U-P6m"
   ],
   "include_colab_link": true,
   "name": "Scalar_2d.ipynb",
   "provenance": []
  },
  "kernelspec": {
   "display_name": "Python 3 (ipykernel)",
   "language": "python",
   "name": "python3"
  },
  "language_info": {
   "codemirror_mode": {
    "name": "ipython",
    "version": 3
   },
   "file_extension": ".py",
   "mimetype": "text/x-python",
   "name": "python",
   "nbconvert_exporter": "python",
   "pygments_lexer": "ipython3",
   "version": "3.10.6"
  }
 },
 "nbformat": 4,
 "nbformat_minor": 4
}
